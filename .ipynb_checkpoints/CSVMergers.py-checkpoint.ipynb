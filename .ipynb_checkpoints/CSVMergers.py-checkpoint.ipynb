{
 "cells": [
  {
   "cell_type": "code",
   "execution_count": 1,
   "metadata": {
    "collapsed": false
   },
   "outputs": [],
   "source": [
    "import pandas as pd\n",
    "\n",
    "def csvfixer(main, replacement):\n",
    "    \"\"\"From Max and Thu: Enter the main and replacement in the following form('main.csv', 'replacement.csv')\"\"\"\n",
    "    \n",
    "    import pandas as pd\n",
    "    main = pd.read_csv(main)\n",
    "    replacement = pd.read_csv(replacement)\n",
    "\n",
    "\n",
    "    row = main.query('actual_mean_temp == actual_min_temp').index\n",
    "    for i in row:\n",
    "        main.loc[i:i,'date':'record_precipitation'] = replacement.loc[i:i, 'date':'record_precipitation']\n",
    "    \n",
    "    return (main)\n",
    "\n",
    "def csvMERGER(main, replacement):\n",
    "    \"\"\"This replaces the zero rows of main.csv with the rows from replacement.csv.\n",
    "    Note: the two csv's must be the same lengh, so as long as you scraped and parsed the same dates, you're fine.\n",
    "    Further Note: rewriting the file creates an extra column named 'Unnamed: 0', this won't mess up the visualization.\n",
    "    Example: \n",
    "    main = 'KMIE.csv'\n",
    "    replacement = 'KIND.csv'\n",
    "    csvMERGER(main, replacement)\n",
    "    \"\"\"\n",
    "    import pandas as pd\n",
    "    length = len(pd.read_csv(main))\n",
    "\n",
    "    df = csvfixer(main, replacement).loc[0:length,'date':'record_precipitation']\n",
    "    #This next step will produce an unnecessary column during the rewrite. \n",
    "    #Don't worry about it. It doesn't change the visualizations.\n",
    "    df.to_csv(main)\n",
    "    \n",
    "    \n"
   ]
  },
  {
   "cell_type": "code",
   "execution_count": null,
   "metadata": {
    "collapsed": true
   },
   "outputs": [],
   "source": []
  }
 ],
 "metadata": {
  "kernelspec": {
   "display_name": "Python 3",
   "language": "python",
   "name": "python3"
  },
  "language_info": {
   "codemirror_mode": {
    "name": "ipython",
    "version": 3
   },
   "file_extension": ".py",
   "mimetype": "text/x-python",
   "name": "python",
   "nbconvert_exporter": "python",
   "pygments_lexer": "ipython3",
   "version": "3.3.5"
  }
 },
 "nbformat": 4,
 "nbformat_minor": 0
}
